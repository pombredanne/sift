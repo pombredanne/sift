{
 "cells": [
  {
   "cell_type": "code",
   "execution_count": 2,
   "metadata": {
    "collapsed": false
   },
   "outputs": [],
   "source": [
    "import findspark\n",
    "findspark.init()\n",
    "import pyspark\n",
    "sc = pyspark.SparkContext()"
   ]
  },
  {
   "cell_type": "code",
   "execution_count": 36,
   "metadata": {
    "collapsed": false
   },
   "outputs": [],
   "source": [
    "from sift.corpora import wikipedia\n",
    "from sift.models import text, links"
   ]
  },
  {
   "cell_type": "code",
   "execution_count": 5,
   "metadata": {
    "collapsed": true
   },
   "outputs": [],
   "source": [
    "base_path = '/data/wikipedia/20151002/'"
   ]
  },
  {
   "cell_type": "code",
   "execution_count": 6,
   "metadata": {
    "collapsed": true
   },
   "outputs": [],
   "source": [
    "corpus = wikipedia.WikipediaCorpus()(sc, base_path + 'dump')"
   ]
  },
  {
   "cell_type": "code",
   "execution_count": 9,
   "metadata": {
    "collapsed": false
   },
   "outputs": [],
   "source": [
    "redirects = wikipedia.WikipediaRedirects()(corpus)\n",
    "docs = wikipedia.WikipediaArticles()(corpus, redirects)"
   ]
  },
  {
   "cell_type": "code",
   "execution_count": 27,
   "metadata": {
    "collapsed": false
   },
   "outputs": [
    {
     "data": {
      "text/plain": [
       "[{'_id': 'en.wikipedia.org/wiki/Causa_y_Efecto',\n",
       "  'links': [{'start': 986,\n",
       "    'stop': 999,\n",
       "    'target': u'en.wikipedia.org/wiki/New_York_City'},\n",
       "   {'start': 93, 'stop': 105, 'target': u'en.wikipedia.org/wiki/Studio_album'},\n",
       "   {'start': 971, 'stop': 982, 'target': u'en.wikipedia.org/wiki/Gotham_Hall'},\n",
       "   {'start': 2178,\n",
       "    'stop': 2192,\n",
       "    'target': u'en.wikipedia.org/wiki/Miami,_Florida'},\n",
       "   {'start': 1791,\n",
       "    'stop': 1808,\n",
       "    'target': u'en.wikipedia.org/wiki/Latin_Pop_Airplay'},\n",
       "   {'start': 2702,\n",
       "    'stop': 2719,\n",
       "    'target': u'en.wikipedia.org/wiki/Latin_Pop_Airplay'},\n",
       "   {'start': 465,\n",
       "    'stop': 484,\n",
       "    'target': u'en.wikipedia.org/wiki/Ni_Una_Sola_Palabra'},\n",
       "   {'start': 2122, 'stop': 2129, 'target': u'en.wikipedia.org/wiki/Austria'},\n",
       "   {'start': 2740,\n",
       "    'stop': 2760,\n",
       "    'target': u'en.wikipedia.org/wiki/Latin_Rhythm_Airplay'},\n",
       "   {'start': 106,\n",
       "    'stop': 119,\n",
       "    'target': u'en.wikipedia.org/wiki/Gran_City_Pop'},\n",
       "   {'start': 2388, 'stop': 2397, 'target': u'en.wikipedia.org/wiki/Reggaeton'},\n",
       "   {'start': 2069,\n",
       "    'stop': 2080,\n",
       "    'target': u'en.wikipedia.org/wiki/Music_video'},\n",
       "   {'start': 2530, 'stop': 2534, 'target': u'en.wikipedia.org/wiki/U.S.'},\n",
       "   {'start': 2573, 'stop': 2577, 'target': u'en.wikipedia.org/wiki/U.S.'},\n",
       "   {'start': 2612, 'stop': 2616, 'target': u'en.wikipedia.org/wiki/U.S.'},\n",
       "   {'start': 2649, 'stop': 2653, 'target': u'en.wikipedia.org/wiki/U.S.'},\n",
       "   {'start': 2685, 'stop': 2689, 'target': u'en.wikipedia.org/wiki/U.S.'},\n",
       "   {'start': 2723, 'stop': 2727, 'target': u'en.wikipedia.org/wiki/U.S.'},\n",
       "   {'start': 1509,\n",
       "    'stop': 1524,\n",
       "    'target': u'en.wikipedia.org/wiki/Hot_Latin_Songs'},\n",
       "   {'start': 2666,\n",
       "    'stop': 2681,\n",
       "    'target': u'en.wikipedia.org/wiki/Hot_Latin_Songs'},\n",
       "   {'start': 1391,\n",
       "    'stop': 1400,\n",
       "    'target': u'en.wikipedia.org/wiki/Causa_y_Efecto'},\n",
       "   {'start': 41, 'stop': 54, 'target': u'en.wikipedia.org/wiki/Paulina_Rubio'},\n",
       "   {'start': 821,\n",
       "    'stop': 854,\n",
       "    'target': u'en.wikipedia.org/wiki/2009_Latin_Billboard_Music_Awards'},\n",
       "   {'start': 2402,\n",
       "    'stop': 2415,\n",
       "    'target': u'en.wikipedia.org/wiki/Angel_&_Khriz'},\n",
       "   {'start': 2775,\n",
       "    'stop': 2827,\n",
       "    'target': u'en.wikipedia.org/wiki/List_of_number-one_Billboard_Hot_Latin_Songs_of_2009'},\n",
       "   {'start': 2547,\n",
       "    'stop': 2569,\n",
       "    'target': u'en.wikipedia.org/wiki/Bubbling_Under_Hot_100'},\n",
       "   {'start': 2536,\n",
       "    'stop': 2545,\n",
       "    'target': u'en.wikipedia.org/wiki/Billboard_(magazine)'},\n",
       "   {'start': 2579,\n",
       "    'stop': 2588,\n",
       "    'target': u'en.wikipedia.org/wiki/Billboard_(magazine)'},\n",
       "   {'start': 2618,\n",
       "    'stop': 2627,\n",
       "    'target': u'en.wikipedia.org/wiki/Billboard_(magazine)'},\n",
       "   {'start': 2655,\n",
       "    'stop': 2664,\n",
       "    'target': u'en.wikipedia.org/wiki/Billboard_(magazine)'},\n",
       "   {'start': 2691,\n",
       "    'stop': 2700,\n",
       "    'target': u'en.wikipedia.org/wiki/Billboard_(magazine)'},\n",
       "   {'start': 2729,\n",
       "    'stop': 2738,\n",
       "    'target': u'en.wikipedia.org/wiki/Billboard_(magazine)'},\n",
       "   {'start': 2304, 'stop': 2307, 'target': u'en.wikipedia.org/wiki/MTV'}],\n",
       "  'text': u'\"\" is a song performed by Mexican singer Paulina Rubio.  The song was recorded for her ninth studio album Gran City Pop, and was released as the lead single on March 30, 2009. Causa y Efecto became a hit reaching number 1 in the U.S. Billboard Hot Latin Songs and Hot Latin Airplays. Causa y Efecto was produced by Cachorro L\\xf3pez and written by Mario Domm and M\\xf3nica V\\xe9lez. \"Causa y Efecto\" is Rubio\\'s first number one single in the Billboard Hot Latin Songs since Ni Una Sola Palabra in 2006.  \"Causa y Efecto\" was awarded \"Song of the year pop/ballad\" by ASCAP.\\n\\nAn English version of the song titled \"Cause and Effect\" will be released on Paulina\\'s next bilingual album.\\n\\nRelease and promotion\\n\"Causa y Efecto\", debuted in radio stations on March 30. The song was performed for the first time on April 23, 2009 at the Latin Billboard Music Awards 2009, Rubio was one of the most expected artists of the night. Rubio also performed the song in a private concert at the Gotham Hall in New York City on May 11 promoting Gran City Pop. The concert was presented by Univision Radio.\\n\\nRubio performed the song at the Wal-Mart Shareholders\\' Meeting, singing a \"spanglish\" version of the song. She performed parts of the Spanish version and others of an unreleased English version. An English version of the song was released on a remix of the song, the George Figares Radio Mix.\\n\\nTrack listing\\n*CD Single\\n# \"Causa y Efecto\" Album version - 3:27\\n\\nChart performance\\nThe song debuted at number 40 on the \"Billboard\" Hot Latin Songs, the next week the song jumped at #26, obtaining the highest \\'jump\\' of the week on the chart. The song peaked #1 for five consecutive weeks and it\\'s her fourth #1 and her twelfth top ten hit on Hot Latin songs.  It debuted at #22 and peaked at #1 on the \"Billboard\" Latin Pop Airplay.\\n\\nIn Spain, the single debuted at #43, and has peaked at #7 based on downloads alone. On May 9, 2009, \"Causa y Efecto\" entered at the Spanish Airplay Chart at #7 as the highest debut of that week, and peaked at #1 for three consecutive weeks.\\n\\nMusic video\\nThe music video for \"Causa y Efecto\" was directed by the Austrian director Rudi Dolezal. The video was filmed in Miami, Florida during the month of March at M3 Studios. The video  premiered worldwide on May 7 and in the U.S on the channel MTV Tres.\\n\\nRemix\\nAn official remix of the song was released on June 12. It features reggaeton duo Angel & Khriz.\\n\\nCharts\\n\\nChart (2009)\\nPeakposition\\n\\nMexico (Monitor Latino)\\n1\\n\\nSpanish Airplay Chart\\n1\\n\\nSpanish Singles Chart\\n7\\n\\nU.S. \"Billboard\" Bubbling Under Hot 100\\n4\\n\\nU.S. \"Billboard\" Heatseeker Songs \\n23\\n\\nU.S. \"Billboard\" Tropical Songs \\n29\\n\\nU.S. \"Billboard\" Hot Latin Songs\\n1\\n\\nU.S. \"Billboard\" Latin Pop Airplay\\n1\\n\\nU.S. \"Billboard\" Latin Rhythm Airplay\\n6\\n\\n\\nSee also\\n*List of number-one Billboard Hot Latin Songs of 2009\\n\\nSales and certifications\\n\\n\\n Country\\n Certification\\n Sales\\n\\n Spain\\n Platinum\\n 40,000\\n\\n\\nReferences'}]"
      ]
     },
     "execution_count": 27,
     "metadata": {},
     "output_type": "execute_result"
    }
   ],
   "source": [
    "docs.take(1)"
   ]
  },
  {
   "cell_type": "code",
   "execution_count": 25,
   "metadata": {
    "collapsed": false
   },
   "outputs": [],
   "source": [
    "vocab = text.TermVocab(max_rank=100000,min_rank=0,lowercase=True,min_df=5)(docs.sample(False, 0.25))"
   ]
  },
  {
   "cell_type": "code",
   "execution_count": 26,
   "metadata": {
    "collapsed": false
   },
   "outputs": [
    {
     "data": {
      "text/plain": [
       "[{'_id': u'the', 'count': 1172125, 'rank': 0},\n",
       " {'_id': u'in', 'count': 1135557, 'rank': 1},\n",
       " {'_id': u'a', 'count': 1127366, 'rank': 2},\n",
       " {'_id': u'of', 'count': 1101586, 'rank': 3},\n",
       " {'_id': u'and', 'count': 1008637, 'rank': 4},\n",
       " {'_id': u'is', 'count': 997703, 'rank': 5},\n",
       " {'_id': u'references', 'count': 958549, 'rank': 6},\n",
       " {'_id': u'to', 'count': 889253, 'rank': 7},\n",
       " {'_id': u'was', 'count': 804122, 'rank': 8},\n",
       " {'_id': u'for', 'count': 725355, 'rank': 9}]"
      ]
     },
     "execution_count": 26,
     "metadata": {},
     "output_type": "execute_result"
    }
   ],
   "source": [
    "vocab.take(10)"
   ]
  },
  {
   "cell_type": "code",
   "execution_count": 34,
   "metadata": {
    "collapsed": false
   },
   "outputs": [
    {
     "data": {
      "text/plain": [
       "[{'_id': u'en.wikipedia.org/wiki/New_York_City',\n",
       "  'source': 'en.wikipedia.org/wiki/Causa_y_Efecto',\n",
       "  'span': (73, 86),\n",
       "  'text': u'rubio also performed the song in a private concert at the gotham hall in new york city on may 11 promoting gran city pop.'}]"
      ]
     },
     "execution_count": 34,
     "metadata": {},
     "output_type": "execute_result"
    }
   ],
   "source": [
    "text.EntityMentions(sentence_window=1,lowercase=True)(docs).take(1)"
   ]
  },
  {
   "cell_type": "code",
   "execution_count": 31,
   "metadata": {
    "collapsed": true
   },
   "outputs": [],
   "source": [
    "mentions = text.IndexMappedMentions(sentence_window=1,lowercase=True)(sc, docs, vocab)"
   ]
  },
  {
   "cell_type": "code",
   "execution_count": 32,
   "metadata": {
    "collapsed": false
   },
   "outputs": [
    {
     "data": {
      "text/plain": [
       "[{'_id': u'en.wikipedia.org/wiki/New_York_City',\n",
       "  'source': 'en.wikipedia.org/wiki/Causa_y_Efecto',\n",
       "  'span': (14, 17),\n",
       "  'text': [25961,\n",
       "   18,\n",
       "   686,\n",
       "   0,\n",
       "   447,\n",
       "   1,\n",
       "   2,\n",
       "   574,\n",
       "   2057,\n",
       "   13,\n",
       "   0,\n",
       "   21394,\n",
       "   518,\n",
       "   1,\n",
       "   35,\n",
       "   227,\n",
       "   98,\n",
       "   11,\n",
       "   46,\n",
       "   205,\n",
       "   3585,\n",
       "   9860,\n",
       "   98,\n",
       "   1770]}]"
      ]
     },
     "execution_count": 32,
     "metadata": {},
     "output_type": "execute_result"
    }
   ],
   "source": [
    "mentions.take(1)"
   ]
  },
  {
   "cell_type": "code",
   "execution_count": 42,
   "metadata": {
    "collapsed": false
   },
   "outputs": [
    {
     "data": {
      "text/plain": [
       "[{'_id': u'', 'count': 4},\n",
       " {'_id': u'www.rsssf.com/tabless/slow97.html', 'count': 2},\n",
       " {'_id': u'en.wikipedia.org/wiki/Yuba,_Michigan', 'count': 3},\n",
       " {'_id': u'en.wikipedia.org/wiki/Walnut_River_(Kansas)', 'count': 12},\n",
       " {'_id': u'www.ctheritage.org/encyclopedia/ct1865_1929/admin_baldwin.htm',\n",
       "  'count': 2},\n",
       " {'_id': u'en.wikipedia.org/wiki/Falling_factorial', 'count': 28},\n",
       " {'_id': u'en.wikipedia.org/wiki/WOW_Worship:_Blue', 'count': 5},\n",
       " {'_id': u'en.wikipedia.org/wiki/Ekhane_Pinjar', 'count': 2},\n",
       " {'_id': u'en.wikipedia.org/wiki/Conditional_execution', 'count': 2},\n",
       " {'_id': u'en.wikipedia.org/wiki/Paralititan', 'count': 27}]"
      ]
     },
     "execution_count": 42,
     "metadata": {},
     "output_type": "execute_result"
    }
   ],
   "source": [
    "links.EntityCounts()(docs).take(10)"
   ]
  },
  {
   "cell_type": "code",
   "execution_count": 49,
   "metadata": {
    "collapsed": false
   },
   "outputs": [
    {
     "data": {
      "text/plain": [
       "[{'_id': u'XMT',\n",
       "  'counts': {u'en.wikipedia.org/wiki/Cray_XMT': 1,\n",
       "   u'en.wikipedia.org/wiki/Extensible_MPEG-4_Textual_Format': 1,\n",
       "   u'en.wikipedia.org/wiki/XMT': 1},\n",
       "  'total': 3},\n",
       " {'_id': u'<a href=\"en.wikipedia.org/wiki/New York\">New York',\n",
       "  'counts': {u'en.wikipedia.org/wiki/New_York_(disambiguation)': 1,\n",
       "   u'en.wikipedia.org/wiki/New_York_Disability_Benefits_Law': 1,\n",
       "   u'en.wikipedia.org/wiki/New_York_State_Armory_(Poughkeepsie)': 1,\n",
       "   u'en.wikipedia.org/wiki/Outline_of_New_York': 1,\n",
       "   u'en.wikipedia.org/wiki/Vehicle_registration_plates_of_New_York': 1},\n",
       "  'total': 5},\n",
       " {'_id': u'Albert Lewis',\n",
       "  'counts': {u'en.wikipedia.org/wiki/Albert_Gerald_Lewis': 1,\n",
       "   u'en.wikipedia.org/wiki/Albert_Lewis': 1,\n",
       "   u'en.wikipedia.org/wiki/Albert_Lewis_(American_football)': 27,\n",
       "   u'en.wikipedia.org/wiki/Albert_Lewis_(Sheffield_United)': 1,\n",
       "   u'en.wikipedia.org/wiki/Albert_Lewis_(footballer)': 3,\n",
       "   u'en.wikipedia.org/wiki/Albert_Lewis_(priest)': 2,\n",
       "   u'en.wikipedia.org/wiki/Albert_Lewis_(producer)': 5,\n",
       "   u'en.wikipedia.org/wiki/Talbot_Lewis': 1},\n",
       "  'total': 41},\n",
       " {'_id': u'WFA website',\n",
       "  'counts': {u'wfafootball.com': 1,\n",
       "   u'www.wfafootball.com': 1,\n",
       "   u'www.wfafootball.com/': 2},\n",
       "  'total': 4},\n",
       " {'_id': u'Marlboro British F3 Championship round 3',\n",
       "  'counts': {u'en.wikipedia.org/wiki/1981_Marlboro_British_F3_Championship,_Rd.3': 1,\n",
       "   u'en.wikipedia.org/wiki/1982_Marlboro_British_F3_Championship,_Rd.3': 1,\n",
       "   u'en.wikipedia.org/wiki/1983_Marlboro_British_F3_Championship,_Rd.3': 1,\n",
       "   u'en.wikipedia.org/wiki/1984_Marlboro_British_F3_Championship,_Rd.3': 1,\n",
       "   u'en.wikipedia.org/wiki/1985_Marlboro_British_F3_Championship,_Rd.3': 1},\n",
       "  'total': 5}]"
      ]
     },
     "execution_count": 49,
     "metadata": {},
     "output_type": "execute_result"
    }
   ],
   "source": [
    "links\\\n",
    "    .EntityNameCounts()(docs)\\\n",
    "    .filter(lambda r: len(r['counts']) >= 3)\\\n",
    "    .take(5)"
   ]
  },
  {
   "cell_type": "code",
   "execution_count": null,
   "metadata": {
    "collapsed": true
   },
   "outputs": [],
   "source": []
  }
 ],
 "metadata": {
  "kernelspec": {
   "display_name": "Python 2",
   "language": "python",
   "name": "python2"
  },
  "language_info": {
   "codemirror_mode": {
    "name": "ipython",
    "version": 2
   },
   "file_extension": ".py",
   "mimetype": "text/x-python",
   "name": "python",
   "nbconvert_exporter": "python",
   "pygments_lexer": "ipython2",
   "version": "2.7.6"
  }
 },
 "nbformat": 4,
 "nbformat_minor": 0
}
